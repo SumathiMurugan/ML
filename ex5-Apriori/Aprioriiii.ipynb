{
 "cells": [
  {
   "cell_type": "code",
   "execution_count": 1,
   "id": "7b6108bf",
   "metadata": {},
   "outputs": [],
   "source": [
    "import pandas as pd\n",
    "import numpy as np\n",
    "import matplotlib.pyplot as plt"
   ]
  },
  {
   "cell_type": "code",
   "execution_count": 2,
   "id": "2798d874",
   "metadata": {},
   "outputs": [],
   "source": [
    "dataset = pd.read_csv('Market_Basket_Optimisation.csv', header = None) "
   ]
  },
  {
   "cell_type": "code",
   "execution_count": 3,
   "id": "a591b8f0",
   "metadata": {},
   "outputs": [
    {
     "data": {
      "text/plain": [
       "(7501, 20)"
      ]
     },
     "execution_count": 3,
     "metadata": {},
     "output_type": "execute_result"
    }
   ],
   "source": [
    "dataset.shape"
   ]
  },
  {
   "cell_type": "code",
   "execution_count": 4,
   "id": "7ec88f68",
   "metadata": {},
   "outputs": [],
   "source": [
    "transactions = []\n",
    "for i in range(0, dataset.shape[0]):\n",
    "    transactions.append([str(dataset.values[i, j]) for j in range(0, 20)])"
   ]
  },
  {
   "cell_type": "code",
   "execution_count": 5,
   "id": "bc2eb8a2",
   "metadata": {},
   "outputs": [
    {
     "name": "stdout",
     "output_type": "stream",
     "text": [
      "['shrimp', 'almonds', 'avocado', 'vegetables mix', 'green grapes', 'whole weat flour', 'yams', 'cottage cheese', 'energy drink', 'tomato juice', 'low fat yogurt', 'green tea', 'honey', 'salad', 'mineral water', 'salmon', 'antioxydant juice', 'frozen smoothie', 'spinach', 'olive oil']\n"
     ]
    }
   ],
   "source": [
    "print(transactions[0])"
   ]
  },
  {
   "cell_type": "code",
   "execution_count": 13,
   "id": "87b362c8",
   "metadata": {},
   "outputs": [
    {
     "name": "stdout",
     "output_type": "stream",
     "text": [
      "Collecting apyori\n",
      "  Downloading apyori-1.1.2.tar.gz (8.6 kB)\n",
      "  Preparing metadata (setup.py): started\n",
      "  Preparing metadata (setup.py): finished with status 'done'\n",
      "Building wheels for collected packages: apyori\n",
      "  Building wheel for apyori (setup.py): started\n",
      "  Building wheel for apyori (setup.py): finished with status 'done'\n",
      "  Created wheel for apyori: filename=apyori-1.1.2-py3-none-any.whl size=5975 sha256=0667e1f5901e8ad46c70c2c81cadfcfbedd1cd9dc490700dbd16d79791d11bff\n",
      "  Stored in directory: c:\\users\\babyv\\appdata\\local\\pip\\cache\\wheels\\77\\3d\\a6\\d317a6fb32be58a602b1e8c6b5d6f31f79322da554cad2a5ea\n",
      "Successfully built apyori\n",
      "Installing collected packages: apyori\n",
      "Successfully installed apyori-1.1.2\n",
      "Note: you may need to restart the kernel to use updated packages.\n"
     ]
    }
   ],
   "source": [
    "pip install apyori\n"
   ]
  },
  {
   "cell_type": "code",
   "execution_count": 14,
   "id": "bdffcee1",
   "metadata": {},
   "outputs": [],
   "source": [
    "from apyori import apriori\n",
    "\n",
    "# Assuming 'transactions' is your transaction data\n",
    "rules = apriori(transactions, min_support=0.003, min_confidence=0.2, min_lift=3, min_length=2)\n",
    "\n",
    "# Converting the rules to a list for easier manipulation\n",
    "results = list(rules)\n"
   ]
  },
  {
   "cell_type": "code",
   "execution_count": 15,
   "id": "0cbd5de9",
   "metadata": {},
   "outputs": [
    {
     "data": {
      "text/html": [
       "<div>\n",
       "<style scoped>\n",
       "    .dataframe tbody tr th:only-of-type {\n",
       "        vertical-align: middle;\n",
       "    }\n",
       "\n",
       "    .dataframe tbody tr th {\n",
       "        vertical-align: top;\n",
       "    }\n",
       "\n",
       "    .dataframe thead th {\n",
       "        text-align: right;\n",
       "    }\n",
       "</style>\n",
       "<table border=\"1\" class=\"dataframe\">\n",
       "  <thead>\n",
       "    <tr style=\"text-align: right;\">\n",
       "      <th></th>\n",
       "      <th>items</th>\n",
       "      <th>support</th>\n",
       "      <th>ordered_statistics</th>\n",
       "    </tr>\n",
       "  </thead>\n",
       "  <tbody>\n",
       "    <tr>\n",
       "      <th>0</th>\n",
       "      <td>(light cream, chicken)</td>\n",
       "      <td>0.004533</td>\n",
       "      <td>[((light cream), (chicken), 0.2905982905982905...</td>\n",
       "    </tr>\n",
       "    <tr>\n",
       "      <th>1</th>\n",
       "      <td>(mushroom cream sauce, escalope)</td>\n",
       "      <td>0.005733</td>\n",
       "      <td>[((mushroom cream sauce), (escalope), 0.300699...</td>\n",
       "    </tr>\n",
       "    <tr>\n",
       "      <th>2</th>\n",
       "      <td>(pasta, escalope)</td>\n",
       "      <td>0.005866</td>\n",
       "      <td>[((pasta), (escalope), 0.3728813559322034, 4.7...</td>\n",
       "    </tr>\n",
       "    <tr>\n",
       "      <th>3</th>\n",
       "      <td>(honey, fromage blanc)</td>\n",
       "      <td>0.003333</td>\n",
       "      <td>[((fromage blanc), (honey), 0.2450980392156863...</td>\n",
       "    </tr>\n",
       "    <tr>\n",
       "      <th>4</th>\n",
       "      <td>(herb &amp; pepper, ground beef)</td>\n",
       "      <td>0.015998</td>\n",
       "      <td>[((herb &amp; pepper), (ground beef), 0.3234501347...</td>\n",
       "    </tr>\n",
       "    <tr>\n",
       "      <th>5</th>\n",
       "      <td>(ground beef, tomato sauce)</td>\n",
       "      <td>0.005333</td>\n",
       "      <td>[((tomato sauce), (ground beef), 0.37735849056...</td>\n",
       "    </tr>\n",
       "    <tr>\n",
       "      <th>6</th>\n",
       "      <td>(olive oil, light cream)</td>\n",
       "      <td>0.003200</td>\n",
       "      <td>[((light cream), (olive oil), 0.20512820512820...</td>\n",
       "    </tr>\n",
       "    <tr>\n",
       "      <th>7</th>\n",
       "      <td>(olive oil, whole wheat pasta)</td>\n",
       "      <td>0.007999</td>\n",
       "      <td>[((whole wheat pasta), (olive oil), 0.27149321...</td>\n",
       "    </tr>\n",
       "    <tr>\n",
       "      <th>8</th>\n",
       "      <td>(shrimp, pasta)</td>\n",
       "      <td>0.005066</td>\n",
       "      <td>[((pasta), (shrimp), 0.3220338983050847, 4.506...</td>\n",
       "    </tr>\n",
       "    <tr>\n",
       "      <th>9</th>\n",
       "      <td>(milk, spaghetti, avocado)</td>\n",
       "      <td>0.003333</td>\n",
       "      <td>[((spaghetti, avocado), (milk), 0.416666666666...</td>\n",
       "    </tr>\n",
       "    <tr>\n",
       "      <th>10</th>\n",
       "      <td>(burgers, cake, milk)</td>\n",
       "      <td>0.003733</td>\n",
       "      <td>[((cake, milk), (burgers), 0.27999999999999997...</td>\n",
       "    </tr>\n",
       "    <tr>\n",
       "      <th>11</th>\n",
       "      <td>(burgers, chocolate, turkey)</td>\n",
       "      <td>0.003066</td>\n",
       "      <td>[((chocolate, turkey), (burgers), 0.2705882352...</td>\n",
       "    </tr>\n",
       "    <tr>\n",
       "      <th>12</th>\n",
       "      <td>(burgers, milk, turkey)</td>\n",
       "      <td>0.003200</td>\n",
       "      <td>[((milk, turkey), (burgers), 0.282352941176470...</td>\n",
       "    </tr>\n",
       "    <tr>\n",
       "      <th>13</th>\n",
       "      <td>(frozen vegetables, cake, tomatoes)</td>\n",
       "      <td>0.003066</td>\n",
       "      <td>[((frozen vegetables, cake), (tomatoes), 0.298...</td>\n",
       "    </tr>\n",
       "    <tr>\n",
       "      <th>14</th>\n",
       "      <td>(cereals, ground beef, spaghetti)</td>\n",
       "      <td>0.003066</td>\n",
       "      <td>[((cereals, ground beef), (spaghetti), 0.67647...</td>\n",
       "    </tr>\n",
       "    <tr>\n",
       "      <th>15</th>\n",
       "      <td>(milk, ground beef, chicken)</td>\n",
       "      <td>0.003866</td>\n",
       "      <td>[((ground beef, chicken), (milk), 0.4084507042...</td>\n",
       "    </tr>\n",
       "    <tr>\n",
       "      <th>16</th>\n",
       "      <td>(light cream, nan, chicken)</td>\n",
       "      <td>0.004533</td>\n",
       "      <td>[((light cream), (nan, chicken), 0.29059829059...</td>\n",
       "    </tr>\n",
       "    <tr>\n",
       "      <th>17</th>\n",
       "      <td>(olive oil, milk, chicken)</td>\n",
       "      <td>0.003600</td>\n",
       "      <td>[((milk, chicken), (olive oil), 0.243243243243...</td>\n",
       "    </tr>\n",
       "    <tr>\n",
       "      <th>18</th>\n",
       "      <td>(olive oil, spaghetti, chicken)</td>\n",
       "      <td>0.003466</td>\n",
       "      <td>[((spaghetti, chicken), (olive oil), 0.2015503...</td>\n",
       "    </tr>\n",
       "    <tr>\n",
       "      <th>19</th>\n",
       "      <td>(frozen vegetables, shrimp, chocolate)</td>\n",
       "      <td>0.005333</td>\n",
       "      <td>[((frozen vegetables, chocolate), (shrimp), 0....</td>\n",
       "    </tr>\n",
       "  </tbody>\n",
       "</table>\n",
       "</div>"
      ],
      "text/plain": [
       "                                     items   support  \\\n",
       "0                   (light cream, chicken)  0.004533   \n",
       "1         (mushroom cream sauce, escalope)  0.005733   \n",
       "2                        (pasta, escalope)  0.005866   \n",
       "3                   (honey, fromage blanc)  0.003333   \n",
       "4             (herb & pepper, ground beef)  0.015998   \n",
       "5              (ground beef, tomato sauce)  0.005333   \n",
       "6                 (olive oil, light cream)  0.003200   \n",
       "7           (olive oil, whole wheat pasta)  0.007999   \n",
       "8                          (shrimp, pasta)  0.005066   \n",
       "9               (milk, spaghetti, avocado)  0.003333   \n",
       "10                   (burgers, cake, milk)  0.003733   \n",
       "11            (burgers, chocolate, turkey)  0.003066   \n",
       "12                 (burgers, milk, turkey)  0.003200   \n",
       "13     (frozen vegetables, cake, tomatoes)  0.003066   \n",
       "14       (cereals, ground beef, spaghetti)  0.003066   \n",
       "15            (milk, ground beef, chicken)  0.003866   \n",
       "16             (light cream, nan, chicken)  0.004533   \n",
       "17              (olive oil, milk, chicken)  0.003600   \n",
       "18         (olive oil, spaghetti, chicken)  0.003466   \n",
       "19  (frozen vegetables, shrimp, chocolate)  0.005333   \n",
       "\n",
       "                                   ordered_statistics  \n",
       "0   [((light cream), (chicken), 0.2905982905982905...  \n",
       "1   [((mushroom cream sauce), (escalope), 0.300699...  \n",
       "2   [((pasta), (escalope), 0.3728813559322034, 4.7...  \n",
       "3   [((fromage blanc), (honey), 0.2450980392156863...  \n",
       "4   [((herb & pepper), (ground beef), 0.3234501347...  \n",
       "5   [((tomato sauce), (ground beef), 0.37735849056...  \n",
       "6   [((light cream), (olive oil), 0.20512820512820...  \n",
       "7   [((whole wheat pasta), (olive oil), 0.27149321...  \n",
       "8   [((pasta), (shrimp), 0.3220338983050847, 4.506...  \n",
       "9   [((spaghetti, avocado), (milk), 0.416666666666...  \n",
       "10  [((cake, milk), (burgers), 0.27999999999999997...  \n",
       "11  [((chocolate, turkey), (burgers), 0.2705882352...  \n",
       "12  [((milk, turkey), (burgers), 0.282352941176470...  \n",
       "13  [((frozen vegetables, cake), (tomatoes), 0.298...  \n",
       "14  [((cereals, ground beef), (spaghetti), 0.67647...  \n",
       "15  [((ground beef, chicken), (milk), 0.4084507042...  \n",
       "16  [((light cream), (nan, chicken), 0.29059829059...  \n",
       "17  [((milk, chicken), (olive oil), 0.243243243243...  \n",
       "18  [((spaghetti, chicken), (olive oil), 0.2015503...  \n",
       "19  [((frozen vegetables, chocolate), (shrimp), 0....  "
      ]
     },
     "execution_count": 15,
     "metadata": {},
     "output_type": "execute_result"
    }
   ],
   "source": [
    "results = pd.DataFrame(results)\n",
    "results.head(20)\n",
    "# From the result Notice that the rows are sorted by relevance. Top ones have large support, which means the rules are strong."
   ]
  },
  {
   "cell_type": "code",
   "execution_count": null,
   "id": "828b54c5",
   "metadata": {},
   "outputs": [],
   "source": []
  },
  {
   "cell_type": "code",
   "execution_count": null,
   "id": "2e6c39ed",
   "metadata": {},
   "outputs": [],
   "source": []
  },
  {
   "cell_type": "code",
   "execution_count": null,
   "id": "ab8a0a5f",
   "metadata": {},
   "outputs": [],
   "source": []
  },
  {
   "cell_type": "code",
   "execution_count": null,
   "id": "ff934a86",
   "metadata": {},
   "outputs": [],
   "source": []
  }
 ],
 "metadata": {
  "kernelspec": {
   "display_name": "Python 3 (ipykernel)",
   "language": "python",
   "name": "python3"
  },
  "language_info": {
   "codemirror_mode": {
    "name": "ipython",
    "version": 3
   },
   "file_extension": ".py",
   "mimetype": "text/x-python",
   "name": "python",
   "nbconvert_exporter": "python",
   "pygments_lexer": "ipython3",
   "version": "3.11.5"
  }
 },
 "nbformat": 4,
 "nbformat_minor": 5
}
